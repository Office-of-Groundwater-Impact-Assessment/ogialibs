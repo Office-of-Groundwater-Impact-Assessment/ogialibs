{
 "cells": [
  {
   "cell_type": "markdown",
   "metadata": {},
   "source": [
    "# Example Notebook\n",
    "\n",
    "In this notebook we will be showcasing the structure of a generic Python notebook project"
   ]
  },
  {
   "cell_type": "code",
   "execution_count": null,
   "metadata": {},
   "outputs": [],
   "source": [
    "import pandas as pd\n",
    "from matplotlib.pyplot import xkcd\n",
    "\n",
    "%matplotlib inline\n"
   ]
  },
  {
   "cell_type": "markdown",
   "metadata": {},
   "source": [
    "With some common libraries imported above, let's generate some charts as if this is a real project;\n",
    "\n",
    "For this, we will need to load the data from a file. It is always better if all outside sources are defined in one place in our notebook. This way if we need to run the code against an entirely different set of files we can update the file locations from the same place."
   ]
  },
  {
   "cell_type": "code",
   "execution_count": null,
   "metadata": {},
   "outputs": [],
   "source": [
    "# Location of the CSV for sales data\n",
    "sales_csv = 'data/sales_data.csv'\n"
   ]
  },
  {
   "cell_type": "markdown",
   "metadata": {},
   "source": [
    "Now we can start loading our data in a separate stage."
   ]
  },
  {
   "cell_type": "code",
   "execution_count": null,
   "metadata": {},
   "outputs": [],
   "source": [
    "sales = pd.read_csv(sales_csv, parse_dates=['Date'])\n",
    "sales.head()"
   ]
  },
  {
   "cell_type": "markdown",
   "metadata": {},
   "source": [
    "We are keeping the next cell for some code to modify the loaded data if we need to or just play and learn about the dataset ourselves."
   ]
  },
  {
   "cell_type": "code",
   "execution_count": null,
   "metadata": {},
   "outputs": [],
   "source": [
    "# Calculate Revenue_per_Age and total sales cost\n",
    "sales['Revenue_per_Age'] = sales['Revenue'] / sales['Customer_Age']\n",
    "sales['Calculated_Cost'] = sales['Order_Quantity'] * sales['Unit_Cost']\n",
    "\n",
    "# Adjust Unit_Price\n",
    "sales['Unit_Price'] *= 1.03\n",
    "\n",
    "\n",
    "sales.corr()\n",
    "sales['Age_Group'].value_counts()"
   ]
  },
  {
   "cell_type": "markdown",
   "metadata": {},
   "source": [
    "Finally, let's generate a chart"
   ]
  },
  {
   "cell_type": "code",
   "execution_count": null,
   "metadata": {},
   "outputs": [],
   "source": [
    "with xkcd(randomness=2):\n",
    "    cost_plot = sales['Unit_Cost'].plot(kind='density', figsize=(14, 6))\n",
    "    cost_plot.axvline(sales['Unit_Cost'].mean(), color='red')\n",
    "    cost_plot.axvline(sales['Unit_Cost'].median(), color='green')\n"
   ]
  },
  {
   "cell_type": "markdown",
   "metadata": {},
   "source": [
    "## Improvements\n",
    "\n",
    "We can go one step further by creating pure-python methods for functionalities we often use.\n",
    "\n",
    "Below is an example of ingestion and chart generation being done in a separate Python file. Please note that we copied the logic for reading the file from an earlier cell to a method in `libraries/ingestions.py` file and removed any references to a hardcoded filename to make the code agnostic to specific file locations and names.\n",
    "\n",
    "`correlation_chart()` method is another example of code reuse. "
   ]
  },
  {
   "cell_type": "code",
   "execution_count": null,
   "metadata": {},
   "outputs": [],
   "source": [
    "from libraries.ingestions import sales_df\n",
    "from libraries.charts import plotfigure as correlation_chart\n",
    "\n",
    "# Since the sales_df method returns a DataFrame object,\n",
    "# the output already comes with  Pandas statistical methods\n",
    "# like .corr() without importing Pandas separately.\n",
    "sales_corr = sales_df(sales_csv).corr()\n",
    "\n",
    "corr_chart = correlation_chart(sales_corr)"
   ]
  },
  {
   "cell_type": "markdown",
   "metadata": {},
   "source": [
    "## Done!"
   ]
  }
 ],
 "metadata": {
  "kernelspec": {
   "display_name": "Python 3.7.11 ('py37')",
   "language": "python",
   "name": "python3"
  },
  "language_info": {
   "codemirror_mode": {
    "name": "ipython",
    "version": 3
   },
   "file_extension": ".py",
   "mimetype": "text/x-python",
   "name": "python",
   "nbconvert_exporter": "python",
   "pygments_lexer": "ipython3",
   "version": "3.10.0"
  },
  "vscode": {
   "interpreter": {
    "hash": "b1408424652596ad7df14567e8c24c30611485e6e4b50b80ce9226f5b66e9685"
   }
  }
 },
 "nbformat": 4,
 "nbformat_minor": 2
}
